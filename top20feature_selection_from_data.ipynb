{
 "cells": [
  {
   "cell_type": "code",
   "execution_count": null,
   "id": "de2512da",
   "metadata": {},
   "outputs": [],
   "source": [
    "# R notebook\n",
    "library(data.table)\n",
    "library(lubridate)\n",
    "library(tidyverse)\n",
    "library(dplyr)\n",
    "library(factoextra)"
   ]
  },
  {
   "cell_type": "code",
   "execution_count": null,
   "id": "9c6a0f8a",
   "metadata": {},
   "outputs": [],
   "source": [
    "#Read the original data\n",
    "df = fread(\"data/cleaned_merged_data.csv\")"
   ]
  },
  {
   "cell_type": "code",
   "execution_count": null,
   "id": "b380366e",
   "metadata": {},
   "outputs": [],
   "source": [
    "#top 20 features based on SHAP values (plus \"DHSIS\")\n",
    "features_to_keep <- c(\"DHSID\", \n",
    "                      \"GDP ($ per capita)_x\", \n",
    "                      \"URBAN_RURA_y\", \n",
    "                      \"bio18@WORLDCLIM/V1/BIO\", \n",
    "                      \"urban-coverfraction_mean@COPERNICUS/Landcover/100m/Proba-V-C3/Global&timestamped\",\n",
    "                      \"Urban Pop %\", \n",
    "                      \"Migrants (net)\", \n",
    "                      \"Cloud_Retrieval_Fraction_ML_Ice_FMean_median@MODIS/061/MOD08_M3&timestamped\", \n",
    "                      \"Cloud_Effective_Radius_PCL_Ice_Mean_Uncertainty_median@MODIS/061/MOD08_M3&timestamped\", \n",
    "                      \"mean_sea_level_pressure_max_max@ECMWF/ERA5/DAILY&timestamped\",\n",
    "                      \"accessibility_max@Oxford/MAP/accessibility_to_healthcare_2019\",\n",
    "                      \"TIMEOFDAY_median@NOAA/CDR/AVHRR/NDVI/V5&timestamped\",\n",
    "                      \"AverageTemperature\",\n",
    "                      \"PET_max_max@MODIS/NTSG/MOD16A2/105&timestamped\",\n",
    "                      \"mean_sea_level_pressure_max_max@ECMWF/ERA5/MONTHLY&timestamped\",\n",
    "                      \"bio13@WORLDCLIM/V1/BIO\",\n",
    "                      \"apr_max@OpenLandMap/CLM/CLM_LST_MOD11A2-DAY_M/v01\",\n",
    "                      \"Retrieved_Temperature_Profile_Mean_Mean_700_median@MODIS/061/MOD08_M3&timestamped\",\n",
    "                      \"sub-region-code\",\n",
    "                      \"TIMEOFDAY_max_max@NOAA/CDR/AVHRR/NDVI/V5&timestamped\",\n",
    "                      \"code\"\n",
    "                      )\n",
    "\n"
   ]
  },
  {
   "cell_type": "code",
   "execution_count": null,
   "id": "16983143",
   "metadata": {},
   "outputs": [],
   "source": [
    "df_top20 <- select(df, all_of(features_to_keep))\n",
    "\n",
    "write.csv(df_top20, \"data/top20features_data.csv\")"
   ]
  }
 ],
 "metadata": {
  "kernelspec": {
   "display_name": "R",
   "language": "R",
   "name": "ir"
  },
  "language_info": {
   "codemirror_mode": "r",
   "file_extension": ".r",
   "mimetype": "text/x-r-source",
   "name": "R",
   "pygments_lexer": "r",
   "version": "4.0.2"
  }
 },
 "nbformat": 4,
 "nbformat_minor": 5
}
