{
 "cells": [
  {
   "cell_type": "code",
   "execution_count": 1,
   "id": "8b35c0b7",
   "metadata": {},
   "outputs": [],
   "source": [
    "# Python 3 notebook\n",
    "\n",
    "import numpy as np\n",
    "from sklearn.preprocessing import StandardScaler\n",
    "from sklearn import decomposition\n",
    "import matplotlib.pyplot as plt\n",
    "from matplotlib import cm\n",
    "import pandas as pd\n",
    "from sklearn.manifold import TSNE\n",
    "%matplotlib inline"
   ]
  },
  {
   "cell_type": "code",
   "execution_count": 2,
   "id": "684433b7",
   "metadata": {},
   "outputs": [],
   "source": [
    "# ############ initialize Sets for each region (as defined by USAID / DHS) to help with data cleaning ############\n",
    "subsaharan_africa_set = {\"AO\", \"BJ\", \"BU\", \"BF\", \"CG\", \"CD\", \"CM\", \"CF\", \"CI\", \"ET\", \"GA\", \"GH\", \"GM\", \"GN\", \"GY\", \"KE\",\n",
    "                         \"KM\", \"LS\", \"LB\", \"MD\", \"MW\", \"ML\", \"MR\", \"MZ\", \"MA\", \"NM\", \"NI\", \"NG\", \"RW\", \"SN\", \"ZA\", \"SL\",\n",
    "                         \"SZ\", \"TD\", \"TG\", \"TZ\", \"UG\", \"ZM\", \"ZW\"}\n",
    "north_africa_west_asia_europe_set = {\"AL\", \"MB\", \"AZ\", \"AM\", \"EG\", \"JO\", \"YE\"}\n",
    "south_se_asia_set = {\"AF\", \"BD\", \"IA\", \"ID\", \"KH\", \"LA\", \"NP\", \"PK\", \"TL\", \"MM\", \"PH\"}\n",
    "central_asia_set = {\"KY\", \"TJ\"}\n",
    "latin_carib_set = {\"CO\", \"HT\", \"HN\", \"PE\", \"DR\", \"BO\"}\n",
    "\n",
    "region_set = {\"Sub-Saharan Africa\", \"North Africa/West Asia/Europe\", \"Central Asia\", \"South & Southeast Asia\",\n",
    "              \"Latin America & Caribbean\"}"
   ]
  },
  {
   "cell_type": "code",
   "execution_count": 3,
   "id": "7ff13b20",
   "metadata": {},
   "outputs": [
    {
     "name": "stderr",
     "output_type": "stream",
     "text": [
      "C:\\Users\\lukec\\AppData\\Local\\Temp/ipykernel_29148/2231966429.py:7: FutureWarning: The default value of regex will change from True to False in a future version.\n",
      "  df['Country_Code'] = df['DHSID'].str.replace('\\d+', '')\n",
      "C:\\Users\\lukec\\AppData\\Local\\Temp/ipykernel_29148/2231966429.py:8: FutureWarning: The default value of regex will change from True to False in a future version.\n",
      "  hi['Country_Code'] = hi['DHSID'].str.replace('\\d+', '')\n"
     ]
    }
   ],
   "source": [
    "# ############ pre-process cleaned_merged_data.csv (feature data) ############\n",
    "# ############ and hi.csv (outcome data) #####################################\n",
    "df = pd.read_csv('data/top20features_data.csv')\n",
    "hi = pd.read_csv('data/hi.csv')\n",
    "\n",
    "# parse DHSID to get country code for each entry ---------------------------\n",
    "df['Country_Code'] = df['DHSID'].str.replace('\\d+', '')\n",
    "hi['Country_Code'] = hi['DHSID'].str.replace('\\d+', '')\n",
    "\n",
    "# create dictionaries of country_codes and region names to be used for data cleaning ---------------------------\n",
    "country_code_set1 = set(df.Country_Code)\n",
    "country_code_set2 = set(hi.Country_Code)\n",
    "country_code_set = country_code_set1.union(country_code_set2)\n",
    "country_code_dict = dict((j, i) for i, j in enumerate(country_code_set))\n",
    "region_dict = dict((j, i) for i, j in enumerate(region_set))\n",
    "\n",
    "# replace DHS country codes with BD for Bangladesh (fixing error in collected data) ---------------------------\n",
    "df.loc[df[\"Country_Code\"] == \"DHS\", \"Country_Code\"] = \"BD\"\n",
    "hi.loc[hi[\"Country_Code\"] == \"DHS\", \"Country_Code\"] = \"BD\"\n",
    "\n",
    "# replace 'R' and 'U' with 0 and 1 ---------------------------\n",
    "df.loc[df[\"URBAN_RURA_y\"] == \"R\", \"URBAN_RURA_y\"] = 0\n",
    "df.loc[df[\"URBAN_RURA_y\"] == \"U\", \"URBAN_RURA_y\"] = 1\n",
    "\n",
    "# Add country and region codes to dataset ---------------------------\n",
    "df['target_region'] = \"\"\n",
    "df['target_country'] = \"\"\n",
    "hi['target_region'] = \"\"\n",
    "hi['target_country'] = \"\"\n",
    "\n",
    "# fill in feature data (df) -------------------------------------------\n",
    "for i in np.arange(df.shape[0]):\n",
    "    if df.loc[i, 'Country_Code'] in subsaharan_africa_set:\n",
    "        df.loc[i, 'target_region'] = region_dict[\"Sub-Saharan Africa\"]\n",
    "    elif df.loc[i, 'Country_Code'] in north_africa_west_asia_europe_set:\n",
    "        df.loc[i, 'target_region'] = region_dict[\"North Africa/West Asia/Europe\"]\n",
    "    elif df.loc[i, 'Country_Code'] in central_asia_set:\n",
    "        df.loc[i, 'target_region'] = region_dict[\"Central Asia\"]\n",
    "    elif df.loc[i, 'Country_Code'] in south_se_asia_set:\n",
    "        df.loc[i, 'target_region'] = region_dict[\"South & Southeast Asia\"]\n",
    "    elif df.loc[i, 'Country_Code'] in latin_carib_set:\n",
    "        df.loc[i, 'target_region'] = region_dict[\"Latin America & Caribbean\"]\n",
    "    else:\n",
    "        df.loc[i, 'target_region'] = None\n",
    "        \n",
    "for i in np.arange(df.shape[0]):\n",
    "    df.loc[i, 'target_country'] = country_code_dict[df.loc[i, 'Country_Code']]\n",
    "        \n",
    "# fill in outcome data (hi) -------------------------------------------      \n",
    "for i in np.arange(hi.shape[0]):\n",
    "    if hi.loc[i, 'Country_Code'] in subsaharan_africa_set:\n",
    "        hi.loc[i, 'target_region'] = region_dict[\"Sub-Saharan Africa\"]\n",
    "    elif hi.loc[i, 'Country_Code'] in north_africa_west_asia_europe_set:\n",
    "        hi.loc[i, 'target_region'] = region_dict[\"North Africa/West Asia/Europe\"]\n",
    "    elif hi.loc[i, 'Country_Code'] in central_asia_set:\n",
    "        hi.loc[i, 'target_region'] = region_dict[\"Central Asia\"]\n",
    "    elif hi.loc[i, 'Country_Code'] in south_se_asia_set:\n",
    "        hi.loc[i, 'target_region'] = region_dict[\"South & Southeast Asia\"]\n",
    "    elif hi.loc[i, 'Country_Code'] in latin_carib_set:\n",
    "        hi.loc[i, 'target_region'] = region_dict[\"Latin America & Caribbean\"]\n",
    "    else:\n",
    "        hi.loc[i, 'target_region'] = None\n",
    "\n",
    "for i in np.arange(hi.shape[0]):\n",
    "    hi.loc[i, 'target_country'] = country_code_dict[hi.loc[i, 'Country_Code']]\n"
   ]
  },
  {
   "cell_type": "code",
   "execution_count": 4,
   "id": "f365361c",
   "metadata": {},
   "outputs": [],
   "source": [
    "# save cleaned dataset -------------------------------------------\n",
    "df.to_csv('data/cleaned_top20features_data.csv')\n",
    "hi.to_csv('data/cleaned_hi.csv')"
   ]
  }
 ],
 "metadata": {
  "kernelspec": {
   "display_name": "Python 3 (ipykernel)",
   "language": "python",
   "name": "python3"
  },
  "language_info": {
   "codemirror_mode": {
    "name": "ipython",
    "version": 3
   },
   "file_extension": ".py",
   "mimetype": "text/x-python",
   "name": "python",
   "nbconvert_exporter": "python",
   "pygments_lexer": "ipython3",
   "version": "3.8.12"
  }
 },
 "nbformat": 4,
 "nbformat_minor": 5
}
